{
  "cells": [
    {
      "cell_type": "code",
      "execution_count": null,
      "metadata": {
        "colab": {
          "base_uri": "https://localhost:8080/"
        },
        "id": "8mRhs_BtulML",
        "outputId": "f4bb531e-930a-46ef-84ef-7cb8cc0a3fa5"
      },
      "outputs": [
        {
          "name": "stdout",
          "output_type": "stream",
          "text": [
            "Collecting google-play-scraper\n",
            "  Downloading google_play_scraper-1.2.7-py3-none-any.whl.metadata (50 kB)\n",
            "\u001b[?25l     \u001b[90m━━━━━━━━━━━━━━━━━━━━━━━━━━━━━━━━━━━━━━━━\u001b[0m \u001b[32m0.0/50.2 kB\u001b[0m \u001b[31m?\u001b[0m eta \u001b[36m-:--:--\u001b[0m\r\u001b[2K     \u001b[90m━━━━━━━━━━━━━━━━━━━━━━━━━━━━━━━━━━━━━━━━\u001b[0m \u001b[32m50.2/50.2 kB\u001b[0m \u001b[31m2.2 MB/s\u001b[0m eta \u001b[36m0:00:00\u001b[0m\n",
            "\u001b[?25hDownloading google_play_scraper-1.2.7-py3-none-any.whl (28 kB)\n",
            "Installing collected packages: google-play-scraper\n",
            "Successfully installed google-play-scraper-1.2.7\n"
          ]
        }
      ],
      "source": [
        "# Install Library\n",
        "!pip install google-play-scraper\n"
      ]
    },
    {
      "cell_type": "markdown",
      "metadata": {
        "id": "KxinTeiGMUgC"
      },
      "source": [
        "# **PENGAMBILAN DATA**"
      ]
    },
    {
      "cell_type": "code",
      "execution_count": null,
      "metadata": {
        "colab": {
          "base_uri": "https://localhost:8080/",
          "height": 35
        },
        "id": "yaLqatfSwxTc",
        "outputId": "962dd1c0-ff26-464e-cb03-fbca883c18ad"
      },
      "outputs": [
        {
          "name": "stdout",
          "output_type": "stream",
          "text": [
            "Data Berhasil Disimpan!\n"
          ]
        },
        {
          "data": {
            "application/javascript": "\n    async function download(id, filename, size) {\n      if (!google.colab.kernel.accessAllowed) {\n        return;\n      }\n      const div = document.createElement('div');\n      const label = document.createElement('label');\n      label.textContent = `Downloading \"${filename}\": `;\n      div.appendChild(label);\n      const progress = document.createElement('progress');\n      progress.max = size;\n      div.appendChild(progress);\n      document.body.appendChild(div);\n\n      const buffers = [];\n      let downloaded = 0;\n\n      const channel = await google.colab.kernel.comms.open(id);\n      // Send a message to notify the kernel that we're ready.\n      channel.send({})\n\n      for await (const message of channel.messages) {\n        // Send a message to notify the kernel that we're ready.\n        channel.send({})\n        if (message.buffers) {\n          for (const buffer of message.buffers) {\n            buffers.push(buffer);\n            downloaded += buffer.byteLength;\n            progress.value = downloaded;\n          }\n        }\n      }\n      const blob = new Blob(buffers, {type: 'application/binary'});\n      const a = document.createElement('a');\n      a.href = window.URL.createObjectURL(blob);\n      a.download = filename;\n      div.appendChild(a);\n      a.click();\n      div.remove();\n    }\n  ",
            "text/plain": [
              "<IPython.core.display.Javascript object>"
            ]
          },
          "metadata": {},
          "output_type": "display_data"
        },
        {
          "data": {
            "application/javascript": "download(\"download_d82a3abf-c524-4b1e-afca-acfd1f7be09a\", \"ulasan_shopee_3000.csv\", 15)",
            "text/plain": [
              "<IPython.core.display.Javascript object>"
            ]
          },
          "metadata": {},
          "output_type": "display_data"
        }
      ],
      "source": [
        "from google_play_scraper import reviews, Sort\n",
        "import pandas as pd\n",
        "\n",
        "# List buat nampung data ulasan\n",
        "all_reviews = []\n",
        "\n",
        "# Looping buat ambil data banyak (5000 Ulasan)\n",
        "for i in range(0, 5000, 1000):\n",
        "    result, _ = reviews(\n",
        "        'com.shopee.id',  # ID Shopee\n",
        "        lang='id',        # Bahasa Indonesia\n",
        "        country='id',     # Indonesia\n",
        "        sort=Sort.NEWEST, # Ulasan Terbaru\n",
        "        count=3000,       # Ambil 3000 Ulasan\n",
        "        continuation_token=None\n",
        "    )\n",
        "    all_reviews.extend(result)\n",
        "\n",
        "# Konversi ke DataFrame\n",
        "df = pd.DataFrame(all_reviews)[['content', 'at']]\n",
        "df.columns = ['Ulasan', 'Tanggal']\n",
        "\n",
        "# Filter Data dari Tahun 2023 - 2025\n",
        "df['Tanggal'] = pd.to_datetime(df['Tanggal'])\n",
        "df = df[(df['Tanggal'] >= '2023-01-01') & (df['Tanggal'] <= '2025-03-03')]\n",
        "\n",
        "# Reset Index\n",
        "df = df.reset_index(drop=True)\n",
        "\n",
        "# Simpan ke CSV\n",
        "df.to_csv(\"ulasan_shopee_3000.csv\", index=False)\n",
        "print(\"Data Berhasil Disimpan!\")\n",
        "\n",
        "# Download CSV Otomatis\n",
        "from google.colab import files\n",
        "files.download(\"ulasan_shopee_3000.csv\")\n"
      ]
    },
    {
      "cell_type": "code",
      "execution_count": 2,
      "metadata": {
        "colab": {
          "base_uri": "https://localhost:8080/",
          "height": 423
        },
        "id": "EsnEoNU6yrG-",
        "outputId": "80bbfbaf-44ac-45fe-86cb-ae384eb827b9"
      },
      "outputs": [
        {
          "data": {
            "text/html": [
              "<div>\n",
              "<style scoped>\n",
              "    .dataframe tbody tr th:only-of-type {\n",
              "        vertical-align: middle;\n",
              "    }\n",
              "\n",
              "    .dataframe tbody tr th {\n",
              "        vertical-align: top;\n",
              "    }\n",
              "\n",
              "    .dataframe thead th {\n",
              "        text-align: right;\n",
              "    }\n",
              "</style>\n",
              "<table border=\"1\" class=\"dataframe\">\n",
              "  <thead>\n",
              "    <tr style=\"text-align: right;\">\n",
              "      <th></th>\n",
              "      <th>Ulasan</th>\n",
              "      <th>Tanggal</th>\n",
              "    </tr>\n",
              "  </thead>\n",
              "  <tbody>\n",
              "    <tr>\n",
              "      <th>0</th>\n",
              "      <td>Saya suka &amp; kwalitas terbaik</td>\n",
              "      <td>2025-03-02 02:26:52</td>\n",
              "    </tr>\n",
              "    <tr>\n",
              "      <th>1</th>\n",
              "      <td>Ok</td>\n",
              "      <td>2025-03-02 02:26:11</td>\n",
              "    </tr>\n",
              "    <tr>\n",
              "      <th>2</th>\n",
              "      <td>Bagus ada cod cek dulu kalo salah bisa balikin</td>\n",
              "      <td>2025-03-02 02:26:07</td>\n",
              "    </tr>\n",
              "    <tr>\n",
              "      <th>3</th>\n",
              "      <td>Tidak mendapatkan semua layanan shopee buruk</td>\n",
              "      <td>2025-03-02 02:23:40</td>\n",
              "    </tr>\n",
              "    <tr>\n",
              "      <th>4</th>\n",
              "      <td>sangat memuaskan tiap belanja di shopee</td>\n",
              "      <td>2025-03-02 02:21:40</td>\n",
              "    </tr>\n",
              "    <tr>\n",
              "      <th>...</th>\n",
              "      <td>...</td>\n",
              "      <td>...</td>\n",
              "    </tr>\n",
              "    <tr>\n",
              "      <th>14995</th>\n",
              "      <td>Hai kak maaf ya ngasih bintang cuman 2 soalya ...</td>\n",
              "      <td>2025-02-28 01:11:17</td>\n",
              "    </tr>\n",
              "    <tr>\n",
              "      <th>14996</th>\n",
              "      <td>Bagus sekali aplikasi nya</td>\n",
              "      <td>2025-02-28 01:10:40</td>\n",
              "    </tr>\n",
              "    <tr>\n",
              "      <th>14997</th>\n",
              "      <td>Apa apaan aplikasi bobrok Udah cekout, pesanan...</td>\n",
              "      <td>2025-02-28 01:10:03</td>\n",
              "    </tr>\n",
              "    <tr>\n",
              "      <th>14998</th>\n",
              "      <td>Pengiriman yang baik ramah dan sopan barang ny...</td>\n",
              "      <td>2025-02-28 01:07:56</td>\n",
              "    </tr>\n",
              "    <tr>\n",
              "      <th>14999</th>\n",
              "      <td>Belanja lebih mudah dan bisa cari berbagai mac...</td>\n",
              "      <td>2025-02-28 01:06:29</td>\n",
              "    </tr>\n",
              "  </tbody>\n",
              "</table>\n",
              "<p>15000 rows × 2 columns</p>\n",
              "</div>"
            ],
            "text/plain": [
              "                                                  Ulasan              Tanggal\n",
              "0                           Saya suka & kwalitas terbaik  2025-03-02 02:26:52\n",
              "1                                                     Ok  2025-03-02 02:26:11\n",
              "2         Bagus ada cod cek dulu kalo salah bisa balikin  2025-03-02 02:26:07\n",
              "3           Tidak mendapatkan semua layanan shopee buruk  2025-03-02 02:23:40\n",
              "4                sangat memuaskan tiap belanja di shopee  2025-03-02 02:21:40\n",
              "...                                                  ...                  ...\n",
              "14995  Hai kak maaf ya ngasih bintang cuman 2 soalya ...  2025-02-28 01:11:17\n",
              "14996                          Bagus sekali aplikasi nya  2025-02-28 01:10:40\n",
              "14997  Apa apaan aplikasi bobrok Udah cekout, pesanan...  2025-02-28 01:10:03\n",
              "14998  Pengiriman yang baik ramah dan sopan barang ny...  2025-02-28 01:07:56\n",
              "14999  Belanja lebih mudah dan bisa cari berbagai mac...  2025-02-28 01:06:29\n",
              "\n",
              "[15000 rows x 2 columns]"
            ]
          },
          "metadata": {},
          "output_type": "display_data"
        }
      ],
      "source": [
        "import pandas as pd\n",
        "\n",
        "# Baca Data CSV\n",
        "file_path = 'Dataset/ulasan_shopee_3000.csv'\n",
        "data = pd.read_csv(file_path)\n",
        "\n",
        "display(data)"
      ]
    },
    {
      "cell_type": "markdown",
      "metadata": {
        "id": "qA-XDcJWMjdm"
      },
      "source": [
        "# **MULTI ASPEK**"
      ]
    },
    {
      "cell_type": "code",
      "execution_count": 4,
      "metadata": {
        "colab": {
          "base_uri": "https://localhost:8080/",
          "height": 35
        },
        "id": "qbg_99oltSJP",
        "outputId": "4f484e72-cf01-4664-cf40-9c15f5a9e23a"
      },
      "outputs": [
        {
          "name": "stdout",
          "output_type": "stream",
          "text": [
            "Data Berhasil Disimpan\n"
          ]
        }
      ],
      "source": [
        "import pandas as pd\n",
        "import re\n",
        "\n",
        "# Load Data\n",
        "df = pd.read_csv(\"Dataset/ulasan_shopee_3000.csv\")\n",
        "\n",
        "# List Kata Kunci Aspek\n",
        "aspek_harga = ['murah', 'mahal', 'ongkir', 'diskon', 'promo', 'cashback']\n",
        "aspek_pelayanan = ['cs', 'customer service', 'komplain', 'balasan', 'pengaduan', 'pelayanan']\n",
        "aspek_aplikasi = ['error', 'lemot', 'fitur', 'update', 'login', 'sistem', 'bug']\n",
        "\n",
        "# Function Klasifikasi Multi-Aspek\n",
        "def aspek_klasifikasi(ulasan):\n",
        "    ulasan = ulasan.lower()  # Ubah jadi huruf kecil semua\n",
        "    aspek_list = []\n",
        "\n",
        "    if any(re.search(r'\\b' + word + r'\\b', ulasan) for word in aspek_harga):\n",
        "        aspek_list.append('Harga')\n",
        "    if any(re.search(r'\\b' + word + r'\\b', ulasan) for word in aspek_pelayanan):\n",
        "        aspek_list.append('Pelayanan')\n",
        "    if any(re.search(r'\\b' + word + r'\\b', ulasan) for word in aspek_aplikasi):\n",
        "        aspek_list.append('Aplikasi')\n",
        "\n",
        "    return ', '.join(aspek_list) if aspek_list else None  # Jika kosong, return None\n",
        "\n",
        "# Tambahin Kolom Aspek\n",
        "df['Aspek'] = df['Ulasan'].apply(aspek_klasifikasi)\n",
        "\n",
        "# Hapus Baris yang Tidak Memiliki Aspek\n",
        "df = df.dropna(subset=['Aspek'])\n",
        "\n",
        "# Simpan ke Excel dalam satu sheet saja\n",
        "df.to_excel(\"ulasan_shopee_multi_aspek.xlsx\", index=False)\n",
        "\n",
        "print(\"Data Berhasil Disimpan\")\n",
        "\n",
        "\n"
      ]
    },
    {
      "cell_type": "code",
      "execution_count": 5,
      "metadata": {
        "colab": {
          "base_uri": "https://localhost:8080/",
          "height": 1162
        },
        "id": "bUlsUOsRs0Wb",
        "outputId": "789d1139-288a-4ff1-f957-4591d8cdbdf4"
      },
      "outputs": [
        {
          "data": {
            "text/html": [
              "<div>\n",
              "<style scoped>\n",
              "    .dataframe tbody tr th:only-of-type {\n",
              "        vertical-align: middle;\n",
              "    }\n",
              "\n",
              "    .dataframe tbody tr th {\n",
              "        vertical-align: top;\n",
              "    }\n",
              "\n",
              "    .dataframe thead th {\n",
              "        text-align: right;\n",
              "    }\n",
              "</style>\n",
              "<table border=\"1\" class=\"dataframe\">\n",
              "  <thead>\n",
              "    <tr style=\"text-align: right;\">\n",
              "      <th></th>\n",
              "      <th>Ulasan</th>\n",
              "      <th>Tanggal</th>\n",
              "      <th>Aspek</th>\n",
              "    </tr>\n",
              "  </thead>\n",
              "  <tbody>\n",
              "    <tr>\n",
              "      <th>0</th>\n",
              "      <td>Sudah berlangganan shopee sejak lama, akun pun...</td>\n",
              "      <td>2025-03-02 02:12:19</td>\n",
              "      <td>Pelayanan</td>\n",
              "    </tr>\n",
              "    <tr>\n",
              "      <th>1</th>\n",
              "      <td>Suka pake shopee mpe setiap hari mesti checkou...</td>\n",
              "      <td>2025-03-02 01:56:17</td>\n",
              "      <td>Pelayanan</td>\n",
              "    </tr>\n",
              "    <tr>\n",
              "      <th>2</th>\n",
              "      <td>Banyak promo nyaaa</td>\n",
              "      <td>2025-03-02 01:48:33</td>\n",
              "      <td>Harga</td>\n",
              "    </tr>\n",
              "    <tr>\n",
              "      <th>3</th>\n",
              "      <td>Bagus bgt apalagi untuk pengguna baru diskon n...</td>\n",
              "      <td>2025-03-02 01:47:26</td>\n",
              "      <td>Harga</td>\n",
              "    </tr>\n",
              "    <tr>\n",
              "      <th>4</th>\n",
              "      <td>Pakai shopee aman-aman aja, cuman beberapa har...</td>\n",
              "      <td>2025-03-02 01:39:17</td>\n",
              "      <td>Pelayanan</td>\n",
              "    </tr>\n",
              "    <tr>\n",
              "      <th>...</th>\n",
              "      <td>...</td>\n",
              "      <td>...</td>\n",
              "      <td>...</td>\n",
              "    </tr>\n",
              "    <tr>\n",
              "      <th>2330</th>\n",
              "      <td>aku kasih bintang 5 karna selalu gratis ongkir...</td>\n",
              "      <td>2025-02-28 01:22:00</td>\n",
              "      <td>Harga</td>\n",
              "    </tr>\n",
              "    <tr>\n",
              "      <th>2331</th>\n",
              "      <td>Setelah beberapa x berbelanja di shopee saya m...</td>\n",
              "      <td>2025-02-28 01:21:05</td>\n",
              "      <td>Pelayanan</td>\n",
              "    </tr>\n",
              "    <tr>\n",
              "      <th>2332</th>\n",
              "      <td>Cool tapi keseringan update</td>\n",
              "      <td>2025-02-28 01:18:19</td>\n",
              "      <td>Aplikasi</td>\n",
              "    </tr>\n",
              "    <tr>\n",
              "      <th>2333</th>\n",
              "      <td>Puass bgtt belanja dishoope serba adaaa euyy,j...</td>\n",
              "      <td>2025-02-28 01:11:53</td>\n",
              "      <td>Aplikasi</td>\n",
              "    </tr>\n",
              "    <tr>\n",
              "      <th>2334</th>\n",
              "      <td>Belanja lebih mudah n murah</td>\n",
              "      <td>2025-02-28 00:53:27</td>\n",
              "      <td>Harga</td>\n",
              "    </tr>\n",
              "  </tbody>\n",
              "</table>\n",
              "<p>2335 rows × 3 columns</p>\n",
              "</div>"
            ],
            "text/plain": [
              "                                                 Ulasan              Tanggal  \\\n",
              "0     Sudah berlangganan shopee sejak lama, akun pun...  2025-03-02 02:12:19   \n",
              "1     Suka pake shopee mpe setiap hari mesti checkou...  2025-03-02 01:56:17   \n",
              "2                                    Banyak promo nyaaa  2025-03-02 01:48:33   \n",
              "3     Bagus bgt apalagi untuk pengguna baru diskon n...  2025-03-02 01:47:26   \n",
              "4     Pakai shopee aman-aman aja, cuman beberapa har...  2025-03-02 01:39:17   \n",
              "...                                                 ...                  ...   \n",
              "2330  aku kasih bintang 5 karna selalu gratis ongkir...  2025-02-28 01:22:00   \n",
              "2331  Setelah beberapa x berbelanja di shopee saya m...  2025-02-28 01:21:05   \n",
              "2332                        Cool tapi keseringan update  2025-02-28 01:18:19   \n",
              "2333  Puass bgtt belanja dishoope serba adaaa euyy,j...  2025-02-28 01:11:53   \n",
              "2334                        Belanja lebih mudah n murah  2025-02-28 00:53:27   \n",
              "\n",
              "          Aspek  \n",
              "0     Pelayanan  \n",
              "1     Pelayanan  \n",
              "2         Harga  \n",
              "3         Harga  \n",
              "4     Pelayanan  \n",
              "...         ...  \n",
              "2330      Harga  \n",
              "2331  Pelayanan  \n",
              "2332   Aplikasi  \n",
              "2333   Aplikasi  \n",
              "2334      Harga  \n",
              "\n",
              "[2335 rows x 3 columns]"
            ]
          },
          "metadata": {},
          "output_type": "display_data"
        }
      ],
      "source": [
        "import pandas as pd\n",
        "\n",
        "# Baca Data CSV\n",
        "file_path = 'Dataset/ulasan_shopee_multi_aspek.xlsx'\n",
        "data = pd.read_excel(file_path)\n",
        "\n",
        "display(data)"
      ]
    },
    {
      "cell_type": "markdown",
      "metadata": {
        "id": "RtqzfIJEM--h"
      },
      "source": [
        "# **ANALISIS SENTIMEN**"
      ]
    },
    {
      "cell_type": "code",
      "execution_count": 6,
      "metadata": {
        "colab": {
          "base_uri": "https://localhost:8080/"
        },
        "id": "X83XQpPN9Ff_",
        "outputId": "92323a2c-ac04-49cd-85a5-2a3328396545"
      },
      "outputs": [
        {
          "name": "stdout",
          "output_type": "stream",
          "text": [
            "Data Berhasil Disimpan dengan Analisis Sentimen\n"
          ]
        }
      ],
      "source": [
        "import pandas as pd\n",
        "import re\n",
        "\n",
        "# Load Data\n",
        "df = pd.read_excel(\"Dataset/ulasan_shopee_multi_aspek.xlsx\")\n",
        "\n",
        "# Daftar Kata Positif dan Negatif\n",
        "kata_positif = ['bagus', 'puas', 'mantap', 'baik', 'cepat', 'murah', 'ramah', 'oke', 'senang']\n",
        "kata_negatif = ['buruk', 'lambat', 'jelek', 'tidak puas', 'parah', 'mahal', 'kecewa', 'lemot', 'error']\n",
        "\n",
        "# Function Analisis Sentimen\n",
        "def analisis_sentimen(ulasan):\n",
        "    ulasan = str(ulasan).lower()\n",
        "    skor = 0\n",
        "\n",
        "    for kata in kata_positif:\n",
        "        if kata in ulasan:\n",
        "            skor += 1\n",
        "    for kata in kata_negatif:\n",
        "        if kata in ulasan:\n",
        "            skor -= 1\n",
        "\n",
        "    if skor > 0:\n",
        "        return 'Positif'\n",
        "    elif skor < 0:\n",
        "        return 'Negatif'\n",
        "    else:\n",
        "        return 'Netral'\n",
        "\n",
        "# Tambahkan Kolom Sentimen\n",
        "df['Sentimen'] = df['Ulasan'].apply(analisis_sentimen)\n",
        "\n",
        "# Simpan ke Excel\n",
        "df.to_excel(\"ulasan_shopee_sentimen.xlsx\", index=False)\n",
        "\n",
        "print(\"Data Berhasil Disimpan dengan Analisis Sentimen\")\n"
      ]
    },
    {
      "cell_type": "code",
      "execution_count": 8,
      "metadata": {
        "colab": {
          "base_uri": "https://localhost:8080/",
          "height": 423
        },
        "id": "8CZhnaPA-O34",
        "outputId": "4c989660-b745-4cca-b050-8c6b8b3bd485"
      },
      "outputs": [
        {
          "data": {
            "text/html": [
              "<div>\n",
              "<style scoped>\n",
              "    .dataframe tbody tr th:only-of-type {\n",
              "        vertical-align: middle;\n",
              "    }\n",
              "\n",
              "    .dataframe tbody tr th {\n",
              "        vertical-align: top;\n",
              "    }\n",
              "\n",
              "    .dataframe thead th {\n",
              "        text-align: right;\n",
              "    }\n",
              "</style>\n",
              "<table border=\"1\" class=\"dataframe\">\n",
              "  <thead>\n",
              "    <tr style=\"text-align: right;\">\n",
              "      <th></th>\n",
              "      <th>Ulasan</th>\n",
              "      <th>Tanggal</th>\n",
              "      <th>Aspek</th>\n",
              "      <th>Sentimen</th>\n",
              "    </tr>\n",
              "  </thead>\n",
              "  <tbody>\n",
              "    <tr>\n",
              "      <th>0</th>\n",
              "      <td>Sudah berlangganan shopee sejak lama, akun pun...</td>\n",
              "      <td>2025-03-02 02:12:19</td>\n",
              "      <td>Pelayanan</td>\n",
              "      <td>Positif</td>\n",
              "    </tr>\n",
              "    <tr>\n",
              "      <th>1</th>\n",
              "      <td>Suka pake shopee mpe setiap hari mesti checkou...</td>\n",
              "      <td>2025-03-02 01:56:17</td>\n",
              "      <td>Pelayanan</td>\n",
              "      <td>Netral</td>\n",
              "    </tr>\n",
              "    <tr>\n",
              "      <th>2</th>\n",
              "      <td>Banyak promo nyaaa</td>\n",
              "      <td>2025-03-02 01:48:33</td>\n",
              "      <td>Harga</td>\n",
              "      <td>Netral</td>\n",
              "    </tr>\n",
              "    <tr>\n",
              "      <th>3</th>\n",
              "      <td>Bagus bgt apalagi untuk pengguna baru diskon n...</td>\n",
              "      <td>2025-03-02 01:47:26</td>\n",
              "      <td>Harga</td>\n",
              "      <td>Positif</td>\n",
              "    </tr>\n",
              "    <tr>\n",
              "      <th>4</th>\n",
              "      <td>Pakai shopee aman-aman aja, cuman beberapa har...</td>\n",
              "      <td>2025-03-02 01:39:17</td>\n",
              "      <td>Pelayanan</td>\n",
              "      <td>Netral</td>\n",
              "    </tr>\n",
              "    <tr>\n",
              "      <th>...</th>\n",
              "      <td>...</td>\n",
              "      <td>...</td>\n",
              "      <td>...</td>\n",
              "      <td>...</td>\n",
              "    </tr>\n",
              "    <tr>\n",
              "      <th>2330</th>\n",
              "      <td>aku kasih bintang 5 karna selalu gratis ongkir...</td>\n",
              "      <td>2025-02-28 01:22:00</td>\n",
              "      <td>Harga</td>\n",
              "      <td>Netral</td>\n",
              "    </tr>\n",
              "    <tr>\n",
              "      <th>2331</th>\n",
              "      <td>Setelah beberapa x berbelanja di shopee saya m...</td>\n",
              "      <td>2025-02-28 01:21:05</td>\n",
              "      <td>Pelayanan</td>\n",
              "      <td>Positif</td>\n",
              "    </tr>\n",
              "    <tr>\n",
              "      <th>2332</th>\n",
              "      <td>Cool tapi keseringan update</td>\n",
              "      <td>2025-02-28 01:18:19</td>\n",
              "      <td>Aplikasi</td>\n",
              "      <td>Netral</td>\n",
              "    </tr>\n",
              "    <tr>\n",
              "      <th>2333</th>\n",
              "      <td>Puass bgtt belanja dishoope serba adaaa euyy,j...</td>\n",
              "      <td>2025-02-28 01:11:53</td>\n",
              "      <td>Aplikasi</td>\n",
              "      <td>Positif</td>\n",
              "    </tr>\n",
              "    <tr>\n",
              "      <th>2334</th>\n",
              "      <td>Belanja lebih mudah n murah</td>\n",
              "      <td>2025-02-28 00:53:27</td>\n",
              "      <td>Harga</td>\n",
              "      <td>Positif</td>\n",
              "    </tr>\n",
              "  </tbody>\n",
              "</table>\n",
              "<p>2335 rows × 4 columns</p>\n",
              "</div>"
            ],
            "text/plain": [
              "                                                 Ulasan              Tanggal  \\\n",
              "0     Sudah berlangganan shopee sejak lama, akun pun...  2025-03-02 02:12:19   \n",
              "1     Suka pake shopee mpe setiap hari mesti checkou...  2025-03-02 01:56:17   \n",
              "2                                    Banyak promo nyaaa  2025-03-02 01:48:33   \n",
              "3     Bagus bgt apalagi untuk pengguna baru diskon n...  2025-03-02 01:47:26   \n",
              "4     Pakai shopee aman-aman aja, cuman beberapa har...  2025-03-02 01:39:17   \n",
              "...                                                 ...                  ...   \n",
              "2330  aku kasih bintang 5 karna selalu gratis ongkir...  2025-02-28 01:22:00   \n",
              "2331  Setelah beberapa x berbelanja di shopee saya m...  2025-02-28 01:21:05   \n",
              "2332                        Cool tapi keseringan update  2025-02-28 01:18:19   \n",
              "2333  Puass bgtt belanja dishoope serba adaaa euyy,j...  2025-02-28 01:11:53   \n",
              "2334                        Belanja lebih mudah n murah  2025-02-28 00:53:27   \n",
              "\n",
              "          Aspek Sentimen  \n",
              "0     Pelayanan  Positif  \n",
              "1     Pelayanan   Netral  \n",
              "2         Harga   Netral  \n",
              "3         Harga  Positif  \n",
              "4     Pelayanan   Netral  \n",
              "...         ...      ...  \n",
              "2330      Harga   Netral  \n",
              "2331  Pelayanan  Positif  \n",
              "2332   Aplikasi   Netral  \n",
              "2333   Aplikasi  Positif  \n",
              "2334      Harga  Positif  \n",
              "\n",
              "[2335 rows x 4 columns]"
            ]
          },
          "metadata": {},
          "output_type": "display_data"
        }
      ],
      "source": [
        "import pandas as pd\n",
        "\n",
        "# Baca Data CSV\n",
        "file_path = 'Dataset/ulasan_shopee_sentimen.xlsx'\n",
        "data = pd.read_excel(file_path)\n",
        "\n",
        "display(data)"
      ]
    },
    {
      "cell_type": "markdown",
      "metadata": {
        "id": "d-ndAFFrNRFc"
      },
      "source": [
        "# **DATA UNDERSTANDING**"
      ]
    },
    {
      "cell_type": "code",
      "execution_count": 9,
      "metadata": {
        "colab": {
          "base_uri": "https://localhost:8080/"
        },
        "id": "KUqzN-1xu8Hb",
        "outputId": "d97ed0e7-8593-4e4a-a64e-197855aae390"
      },
      "outputs": [
        {
          "data": {
            "text/plain": [
              "(2335, 4)"
            ]
          },
          "execution_count": 9,
          "metadata": {},
          "output_type": "execute_result"
        }
      ],
      "source": [
        "# Memuat dataset\n",
        "file_path = 'Dataset/ulasan_shopee_sentimen.xlsx'\n",
        "data = pd.read_excel(file_path)\n",
        "\n",
        "# Melihat banyak baris dan kolom dalam dataset\n",
        "data.shape"
      ]
    },
    {
      "cell_type": "code",
      "execution_count": null,
      "metadata": {
        "colab": {
          "base_uri": "https://localhost:8080/"
        },
        "id": "y18-naTDvKm9",
        "outputId": "f8ce428d-33e6-4a98-ee89-f0ccdf074628"
      },
      "outputs": [
        {
          "name": "stdout",
          "output_type": "stream",
          "text": [
            "<class 'pandas.core.frame.DataFrame'>\n",
            "RangeIndex: 2335 entries, 0 to 2334\n",
            "Data columns (total 4 columns):\n",
            " #   Column    Non-Null Count  Dtype \n",
            "---  ------    --------------  ----- \n",
            " 0   Ulasan    2335 non-null   object\n",
            " 1   Tanggal   2335 non-null   object\n",
            " 2   Aspek     2335 non-null   object\n",
            " 3   Sentimen  2335 non-null   object\n",
            "dtypes: object(4)\n",
            "memory usage: 73.1+ KB\n"
          ]
        }
      ],
      "source": [
        "# Informasi dasar tentang dataset\n",
        "data.info()"
      ]
    },
    {
      "cell_type": "code",
      "execution_count": null,
      "metadata": {
        "colab": {
          "base_uri": "https://localhost:8080/"
        },
        "id": "tsbHsWBwvoLE",
        "outputId": "07cbc725-df1f-40c9-b9cf-050e0ad87e46"
      },
      "outputs": [
        {
          "data": {
            "text/plain": [
              "Index(['Ulasan', 'Tanggal', 'Aspek', 'Sentimen'], dtype='object')"
            ]
          },
          "execution_count": 17,
          "metadata": {},
          "output_type": "execute_result"
        }
      ],
      "source": [
        "data.columns"
      ]
    },
    {
      "cell_type": "code",
      "execution_count": 10,
      "metadata": {
        "colab": {
          "base_uri": "https://localhost:8080/"
        },
        "id": "VtSdIqpn-Tu6",
        "outputId": "208d6fea-7a75-4f21-8af8-791564b95be8"
      },
      "outputs": [
        {
          "name": "stdout",
          "output_type": "stream",
          "text": [
            "Collecting emoji\n",
            "  Downloading emoji-2.14.1-py3-none-any.whl.metadata (5.7 kB)\n",
            "Downloading emoji-2.14.1-py3-none-any.whl (590 kB)\n",
            "   ---------------------------------------- 0.0/590.6 kB ? eta -:--:--\n",
            "   ----------------------------------- ---- 524.3/590.6 kB 8.5 MB/s eta 0:00:01\n",
            "   ---------------------------------------- 590.6/590.6 kB 1.2 MB/s eta 0:00:00\n",
            "Installing collected packages: emoji\n",
            "Successfully installed emoji-2.14.1\n"
          ]
        },
        {
          "name": "stderr",
          "output_type": "stream",
          "text": [
            "WARNING: Ignoring invalid distribution - (c:\\python310\\lib\\site-packages)\n",
            "WARNING: Ignoring invalid distribution -ip (c:\\python310\\lib\\site-packages)\n",
            "WARNING: Ignoring invalid distribution - (c:\\python310\\lib\\site-packages)\n",
            "WARNING: Ignoring invalid distribution -ip (c:\\python310\\lib\\site-packages)\n",
            "WARNING: Ignoring invalid distribution - (c:\\python310\\lib\\site-packages)\n",
            "WARNING: Ignoring invalid distribution -ip (c:\\python310\\lib\\site-packages)\n",
            "\n",
            "[notice] A new release of pip is available: 24.3.1 -> 25.0.1\n",
            "[notice] To update, run: python.exe -m pip install --upgrade pip\n"
          ]
        }
      ],
      "source": [
        "!pip install emoji"
      ]
    },
    {
      "cell_type": "code",
      "execution_count": 14,
      "metadata": {},
      "outputs": [
        {
          "name": "stdout",
          "output_type": "stream",
          "text": [
            "Collecting nltk\n",
            "  Using cached nltk-3.9.1-py3-none-any.whl.metadata (2.9 kB)\n",
            "Requirement already satisfied: click in c:\\python310\\lib\\site-packages (from nltk) (8.1.7)\n",
            "Requirement already satisfied: joblib in c:\\python310\\lib\\site-packages (from nltk) (1.4.2)\n",
            "Collecting regex>=2021.8.3 (from nltk)\n",
            "  Using cached regex-2024.11.6-cp310-cp310-win_amd64.whl.metadata (41 kB)\n",
            "Requirement already satisfied: tqdm in c:\\python310\\lib\\site-packages (from nltk) (4.67.1)\n",
            "Requirement already satisfied: colorama in c:\\users\\afiii\\appdata\\roaming\\python\\python310\\site-packages (from click->nltk) (0.4.6)\n",
            "Using cached nltk-3.9.1-py3-none-any.whl (1.5 MB)\n",
            "Using cached regex-2024.11.6-cp310-cp310-win_amd64.whl (274 kB)\n",
            "Installing collected packages: regex, nltk\n"
          ]
        },
        {
          "name": "stderr",
          "output_type": "stream",
          "text": [
            "WARNING: Ignoring invalid distribution - (c:\\python310\\lib\\site-packages)\n",
            "WARNING: Ignoring invalid distribution -ip (c:\\python310\\lib\\site-packages)\n",
            "WARNING: Ignoring invalid distribution - (c:\\python310\\lib\\site-packages)\n",
            "WARNING: Ignoring invalid distribution -ip (c:\\python310\\lib\\site-packages)\n",
            "  WARNING: Failed to write executable - trying to use .deleteme logic\n",
            "ERROR: Could not install packages due to an OSError: [WinError 2] The system cannot find the file specified: 'C:\\\\Python310\\\\Scripts\\\\nltk.exe' -> 'C:\\\\Python310\\\\Scripts\\\\nltk.exe.deleteme'\n",
            "\n",
            "\n",
            "[notice] A new release of pip is available: 24.3.1 -> 25.0.1\n",
            "[notice] To update, run: python.exe -m pip install --upgrade pip\n"
          ]
        }
      ],
      "source": [
        "!pip install nltk\n"
      ]
    },
    {
      "cell_type": "markdown",
      "metadata": {
        "id": "IDgilAJdNXx3"
      },
      "source": [
        "# **DATA PREPOCESSING**"
      ]
    },
    {
      "cell_type": "code",
      "execution_count": null,
      "metadata": {
        "colab": {
          "base_uri": "https://localhost:8080/"
        },
        "id": "lxGUIBtGwOIH",
        "outputId": "1c9be8c5-47c8-4410-f1fc-33726f34187e"
      },
      "outputs": [
        {
          "name": "stdout",
          "output_type": "stream",
          "text": [
            "Preprocessing selesai! Data disimpan sebagai 'ulasan_shopee_preprocessed.xlsx'\n"
          ]
        }
      ],
      "source": [
        "import pandas as pd\n",
        "import re\n",
        "import string\n",
        "import emoji\n",
        "\n",
        "# Load Data\n",
        "df = pd.read_excel(\"Dataset/ulasan_shopee_sentimen.xlsx\")\n",
        "\n",
        "# Hapus duplikat\n",
        "df = df.drop_duplicates()\n",
        "\n",
        "# Hapus data kosong\n",
        "df = df.dropna(subset=['Ulasan'])\n",
        "\n",
        "# Fungsi untuk membersihkan teks (termasuk hapus emoji, karakter khusus, dan tanda diakritik)\n",
        "def clean_text(text):\n",
        "    text = text.lower()  # Ubah ke huruf kecil\n",
        "    text = re.sub(r'http\\S+', '', text)  # Hapus link\n",
        "    text = re.sub(r'@\\w+|\\#', '', text)  # Hapus mention dan hashtag\n",
        "    text = text.translate(str.maketrans('', '', string.punctuation))  # Hapus tanda baca\n",
        "    text = emoji.replace_emoji(text, replace='')  # Hapus emoji\n",
        "    text = re.sub(r'[ᗒᗣᗕ՞]', '', text)  # Hapus karakter khusus\n",
        "    text = re.sub(r'[⁰¹²³⁴⁵⁶⁷⁸⁹⁺⁻⁼²³⁴⁵⁶⁷⁸⁹]', '', text)  # Hapus tanda superscript/subscript\n",
        "    text = text.strip()  # Hapus spasi berlebih\n",
        "    return text\n",
        "\n",
        "# Bersihkan teks ulasan\n",
        "df['Ulasan_Clean'] = df['Ulasan'].apply(clean_text)\n",
        "\n",
        "# Simpan hasil preprocessing ke file baru\n",
        "df.to_excel(\"ulasan_shopee_preprocessed.xlsx\", index=False)\n",
        "print(\"Preprocessing selesai! Data disimpan sebagai 'ulasan_shopee_preprocessed.xlsx'\")\n"
      ]
    },
    {
      "cell_type": "code",
      "execution_count": 16,
      "metadata": {
        "colab": {
          "base_uri": "https://localhost:8080/",
          "height": 423
        },
        "id": "j9L9dDBswS_u",
        "outputId": "b07a1fb8-51f5-4b18-b3d9-b912ad1ee7a1"
      },
      "outputs": [
        {
          "data": {
            "text/html": [
              "<div>\n",
              "<style scoped>\n",
              "    .dataframe tbody tr th:only-of-type {\n",
              "        vertical-align: middle;\n",
              "    }\n",
              "\n",
              "    .dataframe tbody tr th {\n",
              "        vertical-align: top;\n",
              "    }\n",
              "\n",
              "    .dataframe thead th {\n",
              "        text-align: right;\n",
              "    }\n",
              "</style>\n",
              "<table border=\"1\" class=\"dataframe\">\n",
              "  <thead>\n",
              "    <tr style=\"text-align: right;\">\n",
              "      <th></th>\n",
              "      <th>Ulasan</th>\n",
              "      <th>Tanggal</th>\n",
              "      <th>Aspek</th>\n",
              "      <th>Sentimen</th>\n",
              "      <th>Ulasan_Clean</th>\n",
              "    </tr>\n",
              "  </thead>\n",
              "  <tbody>\n",
              "    <tr>\n",
              "      <th>0</th>\n",
              "      <td>Sudah berlangganan shopee sejak lama, akun pun...</td>\n",
              "      <td>2025-03-02 02:12:19</td>\n",
              "      <td>Pelayanan</td>\n",
              "      <td>Positif</td>\n",
              "      <td>sudah berlangganan shopee sejak lama akun pun ...</td>\n",
              "    </tr>\n",
              "    <tr>\n",
              "      <th>1</th>\n",
              "      <td>Suka pake shopee mpe setiap hari mesti checkou...</td>\n",
              "      <td>2025-03-02 01:56:17</td>\n",
              "      <td>Pelayanan</td>\n",
              "      <td>Netral</td>\n",
              "      <td>suka pake shopee mpe setiap hari mesti checkou...</td>\n",
              "    </tr>\n",
              "    <tr>\n",
              "      <th>2</th>\n",
              "      <td>Banyak promo nyaaa</td>\n",
              "      <td>2025-03-02 01:48:33</td>\n",
              "      <td>Harga</td>\n",
              "      <td>Netral</td>\n",
              "      <td>banyak promo nyaaa</td>\n",
              "    </tr>\n",
              "    <tr>\n",
              "      <th>3</th>\n",
              "      <td>Bagus bgt apalagi untuk pengguna baru diskon n...</td>\n",
              "      <td>2025-03-02 01:47:26</td>\n",
              "      <td>Harga</td>\n",
              "      <td>Positif</td>\n",
              "      <td>bagus bgt apalagi untuk pengguna baru diskon n...</td>\n",
              "    </tr>\n",
              "    <tr>\n",
              "      <th>4</th>\n",
              "      <td>Pakai shopee aman-aman aja, cuman beberapa har...</td>\n",
              "      <td>2025-03-02 01:39:17</td>\n",
              "      <td>Pelayanan</td>\n",
              "      <td>Netral</td>\n",
              "      <td>pakai shopee amanaman aja cuman beberapa hari ...</td>\n",
              "    </tr>\n",
              "    <tr>\n",
              "      <th>...</th>\n",
              "      <td>...</td>\n",
              "      <td>...</td>\n",
              "      <td>...</td>\n",
              "      <td>...</td>\n",
              "      <td>...</td>\n",
              "    </tr>\n",
              "    <tr>\n",
              "      <th>462</th>\n",
              "      <td>aku kasih bintang 5 karna selalu gratis ongkir...</td>\n",
              "      <td>2025-02-28 01:22:00</td>\n",
              "      <td>Harga</td>\n",
              "      <td>Netral</td>\n",
              "      <td>aku kasih bintang 5 karna selalu gratis ongkir...</td>\n",
              "    </tr>\n",
              "    <tr>\n",
              "      <th>463</th>\n",
              "      <td>Setelah beberapa x berbelanja di shopee saya m...</td>\n",
              "      <td>2025-02-28 01:21:05</td>\n",
              "      <td>Pelayanan</td>\n",
              "      <td>Positif</td>\n",
              "      <td>setelah beberapa x berbelanja di shopee saya m...</td>\n",
              "    </tr>\n",
              "    <tr>\n",
              "      <th>464</th>\n",
              "      <td>Cool tapi keseringan update</td>\n",
              "      <td>2025-02-28 01:18:19</td>\n",
              "      <td>Aplikasi</td>\n",
              "      <td>Netral</td>\n",
              "      <td>cool tapi keseringan update</td>\n",
              "    </tr>\n",
              "    <tr>\n",
              "      <th>465</th>\n",
              "      <td>Puass bgtt belanja dishoope serba adaaa euyy,j...</td>\n",
              "      <td>2025-02-28 01:11:53</td>\n",
              "      <td>Aplikasi</td>\n",
              "      <td>Positif</td>\n",
              "      <td>puass bgtt belanja dishoope serba adaaa euyyjn...</td>\n",
              "    </tr>\n",
              "    <tr>\n",
              "      <th>466</th>\n",
              "      <td>Belanja lebih mudah n murah</td>\n",
              "      <td>2025-02-28 00:53:27</td>\n",
              "      <td>Harga</td>\n",
              "      <td>Positif</td>\n",
              "      <td>belanja lebih mudah n murah</td>\n",
              "    </tr>\n",
              "  </tbody>\n",
              "</table>\n",
              "<p>467 rows × 5 columns</p>\n",
              "</div>"
            ],
            "text/plain": [
              "                                                Ulasan              Tanggal  \\\n",
              "0    Sudah berlangganan shopee sejak lama, akun pun...  2025-03-02 02:12:19   \n",
              "1    Suka pake shopee mpe setiap hari mesti checkou...  2025-03-02 01:56:17   \n",
              "2                                   Banyak promo nyaaa  2025-03-02 01:48:33   \n",
              "3    Bagus bgt apalagi untuk pengguna baru diskon n...  2025-03-02 01:47:26   \n",
              "4    Pakai shopee aman-aman aja, cuman beberapa har...  2025-03-02 01:39:17   \n",
              "..                                                 ...                  ...   \n",
              "462  aku kasih bintang 5 karna selalu gratis ongkir...  2025-02-28 01:22:00   \n",
              "463  Setelah beberapa x berbelanja di shopee saya m...  2025-02-28 01:21:05   \n",
              "464                        Cool tapi keseringan update  2025-02-28 01:18:19   \n",
              "465  Puass bgtt belanja dishoope serba adaaa euyy,j...  2025-02-28 01:11:53   \n",
              "466                        Belanja lebih mudah n murah  2025-02-28 00:53:27   \n",
              "\n",
              "         Aspek Sentimen                                       Ulasan_Clean  \n",
              "0    Pelayanan  Positif  sudah berlangganan shopee sejak lama akun pun ...  \n",
              "1    Pelayanan   Netral  suka pake shopee mpe setiap hari mesti checkou...  \n",
              "2        Harga   Netral                                 banyak promo nyaaa  \n",
              "3        Harga  Positif  bagus bgt apalagi untuk pengguna baru diskon n...  \n",
              "4    Pelayanan   Netral  pakai shopee amanaman aja cuman beberapa hari ...  \n",
              "..         ...      ...                                                ...  \n",
              "462      Harga   Netral  aku kasih bintang 5 karna selalu gratis ongkir...  \n",
              "463  Pelayanan  Positif  setelah beberapa x berbelanja di shopee saya m...  \n",
              "464   Aplikasi   Netral                        cool tapi keseringan update  \n",
              "465   Aplikasi  Positif  puass bgtt belanja dishoope serba adaaa euyyjn...  \n",
              "466      Harga  Positif                        belanja lebih mudah n murah  \n",
              "\n",
              "[467 rows x 5 columns]"
            ]
          },
          "metadata": {},
          "output_type": "display_data"
        }
      ],
      "source": [
        "import pandas as pd\n",
        "\n",
        "# Baca Data CSV\n",
        "file_path = 'Dataset/ulasan_shopee_preprocessed.xlsx'\n",
        "data = pd.read_excel(file_path)\n",
        "\n",
        "display(data)"
      ]
    },
    {
      "cell_type": "markdown",
      "metadata": {
        "id": "J990KPhjLKXx"
      },
      "source": [
        "# **VISUALISASI**"
      ]
    },
    {
      "cell_type": "markdown",
      "metadata": {
        "id": "-lAJ_0YHCCL-"
      },
      "source": [
        "Visualisasi Distribusi Sentimen Secara Keseluruhan"
      ]
    },
    {
      "cell_type": "code",
      "execution_count": 17,
      "metadata": {
        "colab": {
          "base_uri": "https://localhost:8080/",
          "height": 690
        },
        "id": "0Sb-YeXnCG6T",
        "outputId": "5ee6416c-a2b4-4c26-974f-6605d938a06e"
      },
      "outputs": [
        {
          "name": "stderr",
          "output_type": "stream",
          "text": [
            "C:\\Users\\afiii\\AppData\\Local\\Temp\\ipykernel_5680\\638154901.py:6: FutureWarning: \n",
            "\n",
            "Passing `palette` without assigning `hue` is deprecated and will be removed in v0.14.0. Assign the `x` variable to `hue` and set `legend=False` for the same effect.\n",
            "\n",
            "  sns.countplot(data=df, x=\"Sentimen\", palette=\"pastel\")\n"
          ]
        },
        {
          "data": {
            "image/png": "[encoded data removed]",
            "text/plain": [
              "<Figure size 1000x600 with 1 Axes>"
            ]
          },
          "metadata": {},
          "output_type": "display_data"
        }
      ],
      "source": [
        "import seaborn as sns\n",
        "import matplotlib.pyplot as plt\n",
        "\n",
        "sns.set(style=\"whitegrid\")\n",
        "plt.figure(figsize=(10, 6))\n",
        "sns.countplot(data=df, x=\"Sentimen\", palette=\"pastel\")\n",
        "plt.title(\"Distribusi Sentimen Secara Keseluruhan\")\n",
        "plt.xlabel(\"Sentimen\")\n",
        "plt.ylabel(\"Jumlah Ulasan\")\n",
        "plt.tight_layout()\n",
        "plt.show()\n"
      ]
    },
    {
      "cell_type": "markdown",
      "metadata": {
        "id": "QCdbdlGqCMNG"
      },
      "source": [
        "visualisasi Jumlah Ulasan per Aspek"
      ]
    },
    {
      "cell_type": "code",
      "execution_count": 18,
      "metadata": {
        "colab": {
          "base_uri": "https://localhost:8080/",
          "height": 690
        },
        "id": "VFtX57fJCPCl",
        "outputId": "4515861b-106f-4f16-d48f-9631d408dab7"
      },
      "outputs": [
        {
          "name": "stderr",
          "output_type": "stream",
          "text": [
            "C:\\Users\\afiii\\AppData\\Local\\Temp\\ipykernel_5680\\2990360399.py:2: FutureWarning: \n",
            "\n",
            "Passing `palette` without assigning `hue` is deprecated and will be removed in v0.14.0. Assign the `x` variable to `hue` and set `legend=False` for the same effect.\n",
            "\n",
            "  ax = sns.countplot(data=df, x=\"Aspek\", palette=\"muted\")\n"
          ]
        },
        {
          "data": {
            "image/png": "[encoded data removed]",
            "text/plain": [
              "<Figure size 1000x600 with 1 Axes>"
            ]
          },
          "metadata": {},
          "output_type": "display_data"
        }
      ],
      "source": [
        "plt.figure(figsize=(10, 6))\n",
        "ax = sns.countplot(data=df, x=\"Aspek\", palette=\"muted\")\n",
        "plt.title(\"Jumlah Ulasan per Aspek\")\n",
        "plt.xlabel(\"Aspek\")\n",
        "plt.ylabel(\"Jumlah Ulasan\")\n",
        "plt.xticks(rotation=45, ha='right')\n",
        "\n",
        "# Tambahin label angka tanpa decimal\n",
        "for p in ax.patches:\n",
        "    height = p.get_height()\n",
        "    ax.annotate(f'{int(height)}', (p.get_x() + p.get_width() / 2, height),\n",
        "                ha='center', va='bottom')\n",
        "\n",
        "plt.tight_layout()\n",
        "plt.show()\n",
        "\n"
      ]
    },
    {
      "cell_type": "markdown",
      "metadata": {
        "id": "3fCeX910CWY9"
      },
      "source": [
        "Visualisasi Distribusi Sentimen per Aspek"
      ]
    },
    {
      "cell_type": "code",
      "execution_count": 19,
      "metadata": {
        "colab": {
          "base_uri": "https://localhost:8080/",
          "height": 601
        },
        "id": "S9OgMtDgCXcg",
        "outputId": "484e4644-4ec9-4f47-f9ad-adceab6e65b2"
      },
      "outputs": [
        {
          "data": {
            "image/png": "[encoded data removed]",
            "text/plain": [
              "<Figure size 1000x600 with 1 Axes>"
            ]
          },
          "metadata": {},
          "output_type": "display_data"
        }
      ],
      "source": [
        "plt.figure(figsize=(10, 6))\n",
        "ax = sns.countplot(data=df, x=\"Aspek\", hue=\"Sentimen\", palette=\"Set2\")\n",
        "plt.title(\"Distribusi Sentimen per Aspek\")\n",
        "plt.xlabel(\"Aspek\")\n",
        "plt.ylabel(\"Jumlah Ulasan\")\n",
        "plt.xticks(rotation=45, ha='right')\n",
        "plt.legend(title=\"Sentimen\")\n",
        "\n",
        "# Tambahin label angka tanpa decimal\n",
        "for p in ax.patches:\n",
        "    height = p.get_height()\n",
        "    if height > 0:\n",
        "        ax.annotate(f'{int(height)}', (p.get_x() + p.get_width() / 2, height),\n",
        "                    ha='center', va='bottom', fontsize=9)\n",
        "\n",
        "plt.tight_layout()\n",
        "plt.show()\n"
      ]
    },
    {
      "cell_type": "code",
      "execution_count": null,
      "metadata": {
        "colab": {
          "base_uri": "https://localhost:8080/"
        },
        "collapsed": true,
        "id": "YerlNHF8JM4q",
        "outputId": "36bfd928-6b63-4c46-fc99-c415e4013c3b"
      },
      "outputs": [
        {
          "name": "stdout",
          "output_type": "stream",
          "text": [
            "Collecting catboost\n",
            "  Downloading catboost-1.2.8-cp311-cp311-manylinux2014_x86_64.whl.metadata (1.2 kB)\n",
            "Requirement already satisfied: seaborn in /usr/local/lib/python3.11/dist-packages (0.13.2)\n",
            "Requirement already satisfied: matplotlib in /usr/local/lib/python3.11/dist-packages (3.10.0)\n",
            "Requirement already satisfied: scikit-learn in /usr/local/lib/python3.11/dist-packages (1.6.1)\n",
            "Requirement already satisfied: pandas in /usr/local/lib/python3.11/dist-packages (2.2.2)\n",
            "Requirement already satisfied: openpyxl in /usr/local/lib/python3.11/dist-packages (3.1.5)\n",
            "Requirement already satisfied: graphviz in /usr/local/lib/python3.11/dist-packages (from catboost) (0.20.3)\n",
            "Requirement already satisfied: numpy<3.0,>=1.16.0 in /usr/local/lib/python3.11/dist-packages (from catboost) (2.0.2)\n",
            "Requirement already satisfied: scipy in /usr/local/lib/python3.11/dist-packages (from catboost) (1.14.1)\n",
            "Requirement already satisfied: plotly in /usr/local/lib/python3.11/dist-packages (from catboost) (5.24.1)\n",
            "Requirement already satisfied: six in /usr/local/lib/python3.11/dist-packages (from catboost) (1.17.0)\n",
            "Requirement already satisfied: contourpy>=1.0.1 in /usr/local/lib/python3.11/dist-packages (from matplotlib) (1.3.1)\n",
            "Requirement already satisfied: cycler>=0.10 in /usr/local/lib/python3.11/dist-packages (from matplotlib) (0.12.1)\n",
            "Requirement already satisfied: fonttools>=4.22.0 in /usr/local/lib/python3.11/dist-packages (from matplotlib) (4.57.0)\n",
            "Requirement already satisfied: kiwisolver>=1.3.1 in /usr/local/lib/python3.11/dist-packages (from matplotlib) (1.4.8)\n",
            "Requirement already satisfied: packaging>=20.0 in /usr/local/lib/python3.11/dist-packages (from matplotlib) (24.2)\n",
            "Requirement already satisfied: pillow>=8 in /usr/local/lib/python3.11/dist-packages (from matplotlib) (11.1.0)\n",
            "Requirement already satisfied: pyparsing>=2.3.1 in /usr/local/lib/python3.11/dist-packages (from matplotlib) (3.2.3)\n",
            "Requirement already satisfied: python-dateutil>=2.7 in /usr/local/lib/python3.11/dist-packages (from matplotlib) (2.8.2)\n",
            "Requirement already satisfied: joblib>=1.2.0 in /usr/local/lib/python3.11/dist-packages (from scikit-learn) (1.4.2)\n",
            "Requirement already satisfied: threadpoolctl>=3.1.0 in /usr/local/lib/python3.11/dist-packages (from scikit-learn) (3.6.0)\n",
            "Requirement already satisfied: pytz>=2020.1 in /usr/local/lib/python3.11/dist-packages (from pandas) (2025.2)\n",
            "Requirement already satisfied: tzdata>=2022.7 in /usr/local/lib/python3.11/dist-packages (from pandas) (2025.2)\n",
            "Requirement already satisfied: et-xmlfile in /usr/local/lib/python3.11/dist-packages (from openpyxl) (2.0.0)\n",
            "Requirement already satisfied: tenacity>=6.2.0 in /usr/local/lib/python3.11/dist-packages (from plotly->catboost) (9.1.2)\n",
            "Downloading catboost-1.2.8-cp311-cp311-manylinux2014_x86_64.whl (99.2 MB)\n",
            "\u001b[2K   \u001b[90m━━━━━━━━━━━━━━━━━━━━━━━━━━━━━━━━━━━━━━━━\u001b[0m \u001b[32m99.2/99.2 MB\u001b[0m \u001b[31m6.5 MB/s\u001b[0m eta \u001b[36m0:00:00\u001b[0m\n",
            "\u001b[?25hInstalling collected packages: catboost\n",
            "Successfully installed catboost-1.2.8\n"
          ]
        }
      ],
      "source": [
        "!pip install catboost seaborn matplotlib scikit-learn pandas openpyxl\n"
      ]
    },
    {
      "cell_type": "markdown",
      "metadata": {
        "id": "qkiZYFXaSyC9"
      },
      "source": [
        "# **MODELING & EVALUASI**"
      ]
    },
    {
      "cell_type": "markdown",
      "metadata": {
        "id": "kOQ4vsXcJ88t"
      },
      "source": [
        "TF-IDF Vectorization + Split Data"
      ]
    },
    {
      "cell_type": "code",
      "execution_count": 21,
      "metadata": {
        "colab": {
          "base_uri": "https://localhost:8080/"
        },
        "id": "mNZzn8bgJJ9J",
        "outputId": "e89f3750-6b5a-419f-ff98-669650c9341d"
      },
      "outputs": [
        {
          "data": {
            "text/plain": [
              "((373, 2098), (94, 2098))"
            ]
          },
          "execution_count": 21,
          "metadata": {},
          "output_type": "execute_result"
        }
      ],
      "source": [
        "import pandas as pd\n",
        "from sklearn.feature_extraction.text import TfidfVectorizer\n",
        "from sklearn.model_selection import train_test_split\n",
        "\n",
        "df = pd.read_excel(\"Dataset/ulasan_shopee_preprocessed.xlsx\")\n",
        "df.head()\n",
        "\n",
        "# Ambil kolom teks dan label\n",
        "X_raw = df['Ulasan_Clean']\n",
        "y = df['Sentimen']\n",
        "\n",
        "# TF-IDF\n",
        "vectorizer = TfidfVectorizer(max_features=5000)\n",
        "X = vectorizer.fit_transform(X_raw)\n",
        "\n",
        "# Split data train dan test (80:20)\n",
        "X_train, X_test, y_train, y_test = train_test_split(X, y, test_size=0.2, random_state=42)\n",
        "\n",
        "# Cek shape hasil split\n",
        "X_train.shape, X_test.shape\n"
      ]
    },
    {
      "cell_type": "markdown",
      "metadata": {
        "id": "k-3k5KJbKNAn"
      },
      "source": [
        "Train Model GBC (Gradient Boosting Classifier)"
      ]
    },
    {
      "cell_type": "code",
      "execution_count": 22,
      "metadata": {
        "colab": {
          "base_uri": "https://localhost:8080/"
        },
        "id": "IWuj5ARYKNi2",
        "outputId": "d9709938-2637-4c4f-d3d3-0903bddd0930"
      },
      "outputs": [
        {
          "name": "stdout",
          "output_type": "stream",
          "text": [
            "Evaluation Report: GBC\n",
            "              precision    recall  f1-score   support\n",
            "\n",
            "     Negatif       0.60      0.75      0.67         8\n",
            "      Netral       0.73      0.88      0.80        42\n",
            "     Positif       0.97      0.73      0.83        44\n",
            "\n",
            "    accuracy                           0.80        94\n",
            "   macro avg       0.77      0.79      0.76        94\n",
            "weighted avg       0.83      0.80      0.80        94\n",
            "\n",
            "\n",
            " Akurasi GBC: 0.80\n"
          ]
        }
      ],
      "source": [
        "from sklearn.ensemble import GradientBoostingClassifier\n",
        "from sklearn.metrics import classification_report, confusion_matrix, accuracy_score\n",
        "\n",
        "# Training GBC\n",
        "gbc = GradientBoostingClassifier(random_state=42)\n",
        "gbc.fit(X_train, y_train)\n",
        "\n",
        "# Prediksi\n",
        "y_pred_gbc = gbc.predict(X_test)\n",
        "\n",
        "# Evaluasi\n",
        "print(\"Evaluation Report: GBC\")\n",
        "print(classification_report(y_test, y_pred_gbc))\n",
        "acc_gbc = accuracy_score(y_test, y_pred_gbc)\n",
        "print(f\"\\n Akurasi GBC: {acc_gbc:.2f}\")\n"
      ]
    },
    {
      "cell_type": "code",
      "execution_count": null,
      "metadata": {
        "colab": {
          "base_uri": "https://localhost:8080/"
        },
        "id": "A0PaYtCuMB61",
        "outputId": "7396a189-e5be-47d7-a722-deda9297c5de"
      },
      "outputs": [
        {
          "name": "stdout",
          "output_type": "stream",
          "text": [
            "Collecting catboost\n",
            "  Downloading catboost-1.2.8-cp311-cp311-manylinux2014_x86_64.whl.metadata (1.2 kB)\n",
            "Requirement already satisfied: graphviz in /usr/local/lib/python3.11/dist-packages (from catboost) (0.20.3)\n",
            "Requirement already satisfied: matplotlib in /usr/local/lib/python3.11/dist-packages (from catboost) (3.10.0)\n",
            "Requirement already satisfied: numpy<3.0,>=1.16.0 in /usr/local/lib/python3.11/dist-packages (from catboost) (2.0.2)\n",
            "Requirement already satisfied: pandas>=0.24 in /usr/local/lib/python3.11/dist-packages (from catboost) (2.2.2)\n",
            "Requirement already satisfied: scipy in /usr/local/lib/python3.11/dist-packages (from catboost) (1.14.1)\n",
            "Requirement already satisfied: plotly in /usr/local/lib/python3.11/dist-packages (from catboost) (5.24.1)\n",
            "Requirement already satisfied: six in /usr/local/lib/python3.11/dist-packages (from catboost) (1.17.0)\n",
            "Requirement already satisfied: python-dateutil>=2.8.2 in /usr/local/lib/python3.11/dist-packages (from pandas>=0.24->catboost) (2.8.2)\n",
            "Requirement already satisfied: pytz>=2020.1 in /usr/local/lib/python3.11/dist-packages (from pandas>=0.24->catboost) (2025.2)\n",
            "Requirement already satisfied: tzdata>=2022.7 in /usr/local/lib/python3.11/dist-packages (from pandas>=0.24->catboost) (2025.2)\n",
            "Requirement already satisfied: contourpy>=1.0.1 in /usr/local/lib/python3.11/dist-packages (from matplotlib->catboost) (1.3.2)\n",
            "Requirement already satisfied: cycler>=0.10 in /usr/local/lib/python3.11/dist-packages (from matplotlib->catboost) (0.12.1)\n",
            "Requirement already satisfied: fonttools>=4.22.0 in /usr/local/lib/python3.11/dist-packages (from matplotlib->catboost) (4.57.0)\n",
            "Requirement already satisfied: kiwisolver>=1.3.1 in /usr/local/lib/python3.11/dist-packages (from matplotlib->catboost) (1.4.8)\n",
            "Requirement already satisfied: packaging>=20.0 in /usr/local/lib/python3.11/dist-packages (from matplotlib->catboost) (24.2)\n",
            "Requirement already satisfied: pillow>=8 in /usr/local/lib/python3.11/dist-packages (from matplotlib->catboost) (11.1.0)\n",
            "Requirement already satisfied: pyparsing>=2.3.1 in /usr/local/lib/python3.11/dist-packages (from matplotlib->catboost) (3.2.3)\n",
            "Requirement already satisfied: tenacity>=6.2.0 in /usr/local/lib/python3.11/dist-packages (from plotly->catboost) (9.1.2)\n",
            "Downloading catboost-1.2.8-cp311-cp311-manylinux2014_x86_64.whl (99.2 MB)\n",
            "\u001b[2K   \u001b[90m━━━━━━━━━━━━━━━━━━━━━━━━━━━━━━━━━━━━━━━━\u001b[0m \u001b[32m99.2/99.2 MB\u001b[0m \u001b[31m8.1 MB/s\u001b[0m eta \u001b[36m0:00:00\u001b[0m\n",
            "\u001b[?25hInstalling collected packages: catboost\n",
            "Successfully installed catboost-1.2.8\n"
          ]
        }
      ],
      "source": [
        "!pip install catboost\n"
      ]
    },
    {
      "cell_type": "markdown",
      "metadata": {
        "id": "yYncGzWwKVM2"
      },
      "source": [
        "Train Model CatBoost"
      ]
    },
    {
      "cell_type": "code",
      "execution_count": 23,
      "metadata": {
        "colab": {
          "base_uri": "https://localhost:8080/"
        },
        "id": "X4HlzGDXKWws",
        "outputId": "c2cf94f2-4ecd-426d-d03a-17cbc8bd808b"
      },
      "outputs": [
        {
          "name": "stdout",
          "output_type": "stream",
          "text": [
            "Evaluation Report: CatBoost\n",
            "              precision    recall  f1-score   support\n",
            "\n",
            "     Negatif       0.86      0.75      0.80         8\n",
            "      Netral       0.75      0.95      0.84        42\n",
            "     Positif       0.97      0.75      0.85        44\n",
            "\n",
            "    accuracy                           0.84        94\n",
            "   macro avg       0.86      0.82      0.83        94\n",
            "weighted avg       0.86      0.84      0.84        94\n",
            "\n",
            "\n",
            " Akurasi CatBoost: 0.84\n"
          ]
        }
      ],
      "source": [
        "from catboost import CatBoostClassifier\n",
        "\n",
        "# Training CatBoost\n",
        "catboost = CatBoostClassifier(verbose=0, random_state=42)\n",
        "catboost.fit(X_train, y_train)\n",
        "\n",
        "# Prediksi\n",
        "y_pred_cat = catboost.predict(X_test)\n",
        "\n",
        "# Evaluasi\n",
        "print(\"Evaluation Report: CatBoost\")\n",
        "print(classification_report(y_test, y_pred_cat))\n",
        "acc_cat = accuracy_score(y_test, y_pred_cat)\n",
        "print(f\"\\n Akurasi CatBoost: {acc_cat:.2f}\")\n"
      ]
    },
    {
      "cell_type": "code",
      "execution_count": 24,
      "metadata": {
        "colab": {
          "base_uri": "https://localhost:8080/"
        },
        "id": "rGfoucG5AaZq",
        "outputId": "b8039a68-9dab-41aa-9d40-71142148e720"
      },
      "outputs": [
        {
          "name": "stdout",
          "output_type": "stream",
          "text": [
            "Evaluation Report: Ensemble (GBC + CatBoost)\n",
            "              precision    recall  f1-score   support\n",
            "\n",
            "     Negatif       0.60      0.75      0.67         8\n",
            "      Netral       0.73      0.88      0.80        42\n",
            "     Positif       0.97      0.73      0.83        44\n",
            "\n",
            "    accuracy                           0.80        94\n",
            "   macro avg       0.77      0.79      0.76        94\n",
            "weighted avg       0.83      0.80      0.80        94\n",
            "\n",
            "\n",
            " Akurasi Ensemble: 0.80\n"
          ]
        }
      ],
      "source": [
        "import numpy as np\n",
        "from sklearn.metrics import classification_report, accuracy_score\n",
        "\n",
        "y_pred_ensemble = []\n",
        "\n",
        "for gbc_pred, cat_pred in zip(y_pred_gbc, y_pred_cat):\n",
        "    if gbc_pred == cat_pred:\n",
        "        y_pred_ensemble.append(gbc_pred)\n",
        "    else:\n",
        "        y_pred_ensemble.append(gbc_pred)\n",
        "\n",
        "# Ubah ke array\n",
        "y_pred_ensemble = np.array(y_pred_ensemble)\n",
        "\n",
        "# Evaluasi hasil gabungan\n",
        "print(\"Evaluation Report: Ensemble (GBC + CatBoost)\")\n",
        "print(classification_report(y_test, y_pred_ensemble))\n",
        "acc_ensemble = accuracy_score(y_test, y_pred_ensemble)\n",
        "print(f\"\\n Akurasi Ensemble: {acc_ensemble:.2f}\")\n"
      ]
    },
    {
      "cell_type": "markdown",
      "metadata": {
        "id": "Z0UWB-nxKynH"
      },
      "source": [
        "Visualisasi Confusion Matrix"
      ]
    },
    {
      "cell_type": "code",
      "execution_count": null,
      "metadata": {
        "colab": {
          "base_uri": "https://localhost:8080/",
          "height": 785
        },
        "id": "74fQAB2OK0ye",
        "outputId": "bdc2f9a0-c600-4698-e6ab-7aa6b8c0b8e6"
      },
      "outputs": [
        {
          "data": {
            "image/png": "[encoded data removed]",
            "text/plain": [
              "<Figure size 500x400 with 2 Axes>"
            ]
          },
          "metadata": {},
          "output_type": "display_data"
        },
        {
          "data": {
            "image/png": "[encoded data removed]",
            "text/plain": [
              "<Figure size 500x400 with 2 Axes>"
            ]
          },
          "metadata": {},
          "output_type": "display_data"
        }
      ],
      "source": [
        "import matplotlib.pyplot as plt\n",
        "import seaborn as sns\n",
        "from sklearn.metrics import confusion_matrix\n",
        "\n",
        "# Fungsi visualisasi Confusion Matrix\n",
        "def plot_conf_matrix(cm, title):\n",
        "    plt.figure(figsize=(5,4))\n",
        "    sns.heatmap(cm, annot=True, fmt='d', cmap='YlOrBr',\n",
        "                xticklabels=['Negatif', 'Netral', 'Positif'],\n",
        "                yticklabels=['Negatif', 'Netral', 'Positif'])\n",
        "    plt.title(f'Confusion Matrix - {title}')\n",
        "    plt.xlabel('Predicted')\n",
        "    plt.ylabel('Actual')\n",
        "    plt.tight_layout()\n",
        "    plt.show()\n",
        "\n",
        "# Confusion Matrix\n",
        "cm_gbc = confusion_matrix(y_test, y_pred_gbc)\n",
        "cm_cat = confusion_matrix(y_test, y_pred_cat)\n",
        "\n",
        "plot_conf_matrix(cm_gbc, \"GBC\")\n",
        "plot_conf_matrix(cm_cat, \"CatBoost\")\n"
      ]
    },
    {
      "cell_type": "markdown",
      "metadata": {
        "id": "eoanMH2oLDH9"
      },
      "source": [
        "Visualisasi F1-Score per Kelas"
      ]
    },
    {
      "cell_type": "code",
      "execution_count": null,
      "metadata": {
        "colab": {
          "base_uri": "https://localhost:8080/",
          "height": 963
        },
        "id": "H1aTpu-sLFmD",
        "outputId": "1bfc917c-6e00-49e7-8a4d-4a4c8b548371"
      },
      "outputs": [
        {
          "name": "stderr",
          "output_type": "stream",
          "text": [
            "<ipython-input-44-b2ac83c477ff>:11: FutureWarning: \n",
            "\n",
            "Passing `palette` without assigning `hue` is deprecated and will be removed in v0.14.0. Assign the `x` variable to `hue` and set `legend=False` for the same effect.\n",
            "\n",
            "  sns.barplot(x=list(f1_scores.keys()), y=list(f1_scores.values()), palette='Set2')\n"
          ]
        },
        {
          "data": {
            "image/png": "[encoded data removed]",
            "text/plain": [
              "<Figure size 600x400 with 1 Axes>"
            ]
          },
          "metadata": {},
          "output_type": "display_data"
        },
        {
          "name": "stderr",
          "output_type": "stream",
          "text": [
            "<ipython-input-44-b2ac83c477ff>:11: FutureWarning: \n",
            "\n",
            "Passing `palette` without assigning `hue` is deprecated and will be removed in v0.14.0. Assign the `x` variable to `hue` and set `legend=False` for the same effect.\n",
            "\n",
            "  sns.barplot(x=list(f1_scores.keys()), y=list(f1_scores.values()), palette='Set2')\n"
          ]
        },
        {
          "data": {
            "image/png": "[encoded data removed]",
            "text/plain": [
              "<Figure size 600x400 with 1 Axes>"
            ]
          },
          "metadata": {},
          "output_type": "display_data"
        }
      ],
      "source": [
        "from sklearn.metrics import classification_report\n",
        "\n",
        "def plot_f1_scores(y_true, y_pred, model_name):\n",
        "    report = classification_report(y_true, y_pred, output_dict=True)\n",
        "    f1_scores = {\n",
        "        label: report[label]['f1-score']\n",
        "        for label in ['Negatif', 'Netral', 'Positif']\n",
        "    }\n",
        "\n",
        "    plt.figure(figsize=(6,4))\n",
        "    sns.barplot(x=list(f1_scores.keys()), y=list(f1_scores.values()), palette='Set2')\n",
        "    plt.title(f'F1-Score per Kelas - {model_name}')\n",
        "    plt.ylim(0, 1)\n",
        "    plt.ylabel('F1 Score')\n",
        "    plt.tight_layout()\n",
        "    plt.show()\n",
        "\n",
        "plot_f1_scores(y_test, y_pred_gbc, \"GBC\")\n",
        "plot_f1_scores(y_test, y_pred_cat, \"CatBoost\")\n"
      ]
    },
    {
      "cell_type": "markdown",
      "metadata": {
        "id": "3XZzpVTjLKTv"
      },
      "source": [
        "Perbandingan Akurasi GBC vs CatBoost"
      ]
    },
    {
      "cell_type": "code",
      "execution_count": null,
      "metadata": {
        "colab": {
          "base_uri": "https://localhost:8080/",
          "height": 490
        },
        "id": "mxNmf8LnLMCs",
        "outputId": "2a72ae98-7b84-42e1-d8bd-fe583b3c5091"
      },
      "outputs": [
        {
          "name": "stderr",
          "output_type": "stream",
          "text": [
            "<ipython-input-45-286dba1e9265>:5: FutureWarning: \n",
            "\n",
            "Passing `palette` without assigning `hue` is deprecated and will be removed in v0.14.0. Assign the `x` variable to `hue` and set `legend=False` for the same effect.\n",
            "\n",
            "  sns.barplot(x=models, y=scores, palette='coolwarm')\n"
          ]
        },
        {
          "data": {
            "image/png": "[encoded data removed]",
            "text/plain": [
              "<Figure size 500x400 with 1 Axes>"
            ]
          },
          "metadata": {},
          "output_type": "display_data"
        }
      ],
      "source": [
        "# Grafik akurasi\n",
        "plt.figure(figsize=(5,4))\n",
        "models = ['GBC', 'CatBoost']\n",
        "scores = [acc_gbc, acc_cat]\n",
        "sns.barplot(x=models, y=scores, palette='coolwarm')\n",
        "plt.ylim(0,1)\n",
        "plt.title(\"Perbandingan Akurasi Model\")\n",
        "plt.ylabel(\"Akurasi\")\n",
        "plt.tight_layout()\n",
        "plt.show()\n"
      ]
    }
  ],
  "metadata": {
    "colab": {
      "provenance": []
    },
    "kernelspec": {
      "display_name": "Python 3",
      "name": "python3"
    },
    "language_info": {
      "codemirror_mode": {
        "name": "ipython",
        "version": 3
      },
      "file_extension": ".py",
      "mimetype": "text/x-python",
      "name": "python",
      "nbconvert_exporter": "python",
      "pygments_lexer": "ipython3",
      "version": "3.10.2"
    }
  },
  "nbformat": 4,
  "nbformat_minor": 0
}
